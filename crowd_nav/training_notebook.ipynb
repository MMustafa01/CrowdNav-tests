{
 "cells": [
  {
   "cell_type": "code",
   "execution_count": 2,
   "metadata": {},
   "outputs": [
    {
     "name": "stderr",
     "output_type": "stream",
     "text": [
      "/home/or06360/miniconda3/envs/crowdnav/lib/python3.8/site-packages/tqdm/auto.py:21: TqdmWarning: IProgress not found. Please update jupyter and ipywidgets. See https://ipywidgets.readthedocs.io/en/stable/user_install.html\n",
      "  from .autonotebook import tqdm as notebook_tqdm\n"
     ]
    }
   ],
   "source": [
    "import sys\n",
    "import logging\n",
    "import argparse\n",
    "import configparser\n",
    "import os\n",
    "import shutil\n",
    "import torch\n",
    "import gym\n",
    "import git\n",
    "from crowd_sim.envs.utils.robot import Robot\n",
    "from crowd_nav.utils.trainer import Trainer\n",
    "from crowd_nav.utils.memory import ReplayMemory\n",
    "from crowd_nav.utils.explorer import Explorer\n",
    "from crowd_nav.policy.policy_factory import policy_factory"
   ]
  },
  {
   "cell_type": "markdown",
   "metadata": {},
   "source": [
    "# Parsing Arguments "
   ]
  },
  {
   "cell_type": "markdown",
   "metadata": {},
   "source": [
    "``python train.py --policy MambaRL --output_dir data/output/checking_mamba_onvscode --gpu``"
   ]
  },
  {
   "cell_type": "code",
   "execution_count": 5,
   "metadata": {},
   "outputs": [],
   "source": [
    "gpu = True\n",
    "debug = True\n",
    "policy = 'MambaRL'\n",
    "output_path = 'data/output/training_notebook/'"
   ]
  },
  {
   "cell_type": "code",
   "execution_count": 8,
   "metadata": {},
   "outputs": [
    {
     "name": "stderr",
     "output_type": "stream",
     "text": [
      "usage: Parse configuration file [-h] [--env_config ENV_CONFIG]\n",
      "                                [--policy POLICY]\n",
      "                                [--policy_config POLICY_CONFIG]\n",
      "                                [--train_config TRAIN_CONFIG]\n",
      "                                [--output_dir OUTPUT_DIR] [--weights WEIGHTS]\n",
      "                                [--resume] [--gpu] [--debug]\n",
      "Parse configuration file: error: unrecognized arguments: --f=/home/or06360/.local/share/jupyter/runtime/kernel-v2-41326148wRzOVOUiaZg.json\n"
     ]
    },
    {
     "ename": "SystemExit",
     "evalue": "2",
     "output_type": "error",
     "traceback": [
      "An exception has occurred, use %tb to see the full traceback.\n",
      "\u001b[0;31mSystemExit\u001b[0m\u001b[0;31m:\u001b[0m 2\n"
     ]
    }
   ],
   "source": [
    "parser = argparse.ArgumentParser('Parse configuration file')\n",
    "parser.add_argument('--env_config', type=str, default='configs/env.config')\n",
    "parser.add_argument('--policy', type=str, default=policy)\n",
    "parser.add_argument('--policy_config', type=str, default='configs/policy.config')\n",
    "parser.add_argument('--train_config', type=str, default='configs/train.config')\n",
    "parser.add_argument('--output_dir', type=str, default=output_path)\n",
    "parser.add_argument('--weights', type=str)\n",
    "parser.add_argument('--resume', default=False, action='store_true')\n",
    "parser.add_argument('--gpu', default=gpu, action='store_true')\n",
    "parser.add_argument('--debug', default=debug, action='store_true')\n",
    "args = parser.parse_args()"
   ]
  },
  {
   "cell_type": "markdown",
   "metadata": {},
   "source": [
    "# Configure Paths"
   ]
  },
  {
   "cell_type": "code",
   "execution_count": null,
   "metadata": {},
   "outputs": [],
   "source": [
    "make_new_dir = True\n",
    "if os.path.exists(args.output_dir):\n",
    "    key = input('Output directory already exists! Overwrite the folder? (y/n)')\n",
    "    if key == 'y' and not args.resume:\n",
    "        shutil.rmtree(args.output_dir)\n",
    "    else:\n",
    "        make_new_dir = False\n",
    "        args.env_config = os.path.join(args.output_dir, os.path.basename(args.env_config))\n",
    "        args.policy_config = os.path.join(args.output_dir, os.path.basename(args.policy_config))\n",
    "        args.train_config = os.path.join(args.output_dir, os.path.basename(args.train_config))\n",
    "if make_new_dir:\n",
    "    os.makedirs(args.output_dir)\n",
    "    shutil.copy(args.env_config, args.output_dir)\n",
    "    shutil.copy(args.policy_config, args.output_dir)\n",
    "    shutil.copy(args.train_config, args.output_dir)\n",
    "log_file = os.path.join(args.output_dir, 'output.log')\n",
    "il_weight_file = os.path.join(args.output_dir, 'il_model.pth')\n",
    "rl_weight_file = os.path.join(args.output_dir, 'rl_model.pth')\n"
   ]
  },
  {
   "cell_type": "markdown",
   "metadata": {},
   "source": [
    "# Configure Logging"
   ]
  },
  {
   "cell_type": "code",
   "execution_count": null,
   "metadata": {},
   "outputs": [],
   "source": [
    "mode = 'a' if args.resume else 'w'\n",
    "file_handler = logging.FileHandler(log_file, mode=mode)\n",
    "stdout_handler = logging.StreamHandler(sys.stdout)\n",
    "level = logging.INFO if not args.debug else logging.DEBUG\n",
    "logging.basicConfig(level=level, handlers=[stdout_handler, file_handler],\n",
    "                    format='%(asctime)s, %(levelname)s: %(message)s', datefmt=\"%Y-%m-%d %H:%M:%S\")\n",
    "repo = git.Repo(search_parent_directories=True)\n",
    "logging.info('Current git head hash code: %s'.format(repo.head.object.hexsha))\n",
    "device = torch.device(\"cuda:0\" if torch.cuda.is_available() and args.gpu else \"cpu\")\n",
    "logging.info('Using device: %s', device)\n"
   ]
  },
  {
   "cell_type": "markdown",
   "metadata": {},
   "source": [
    "# configure policy"
   ]
  },
  {
   "cell_type": "code",
   "execution_count": null,
   "metadata": {},
   "outputs": [],
   "source": [
    "\n",
    "policy = policy_factory[args.policy]()\n",
    "if not policy.trainable:\n",
    "    parser.error('Policy has to be trainable')\n",
    "if args.policy_config is None:\n",
    "    parser.error('Policy config has to be specified for a trainable network')\n",
    "policy_config = configparser.RawConfigParser()\n",
    "policy_config.read(args.policy_config)\n",
    "policy.configure(policy_config)\n",
    "policy.set_device(device)"
   ]
  },
  {
   "cell_type": "markdown",
   "metadata": {},
   "source": [
    "# configure environment"
   ]
  },
  {
   "cell_type": "code",
   "execution_count": null,
   "metadata": {},
   "outputs": [],
   "source": [
    "env_config = configparser.RawConfigParser()\n",
    "env_config.read(args.env_config)\n",
    "env = gym.make('CrowdSim-v0')\n",
    "env.configure(env_config)\n",
    "robot = Robot(env_config, 'robot')\n",
    "env.set_robot(robot)\n"
   ]
  },
  {
   "cell_type": "markdown",
   "metadata": {},
   "source": [
    " # read training parameters"
   ]
  },
  {
   "cell_type": "code",
   "execution_count": null,
   "metadata": {},
   "outputs": [],
   "source": [
    "if args.train_config is None:\n",
    "    parser.error('Train config has to be specified for a trainable network')\n",
    "train_config = configparser.RawConfigParser()\n",
    "train_config.read(args.train_config)\n",
    "rl_learning_rate = train_config.getfloat('train', 'rl_learning_rate')\n",
    "train_batches = train_config.getint('train', 'train_batches')\n",
    "train_episodes = train_config.getint('train', 'train_episodes')\n",
    "sample_episodes = train_config.getint('train', 'sample_episodes')\n",
    "target_update_interval = train_config.getint('train', 'target_update_interval')\n",
    "evaluation_interval = train_config.getint('train', 'evaluation_interval')\n",
    "capacity = train_config.getint('train', 'capacity')\n",
    "epsilon_start = train_config.getfloat('train', 'epsilon_start')\n",
    "epsilon_end = train_config.getfloat('train', 'epsilon_end')\n",
    "epsilon_decay = train_config.getfloat('train', 'epsilon_decay')\n",
    "checkpoint_interval = train_config.getint('train', 'checkpoint_interval')"
   ]
  },
  {
   "cell_type": "markdown",
   "metadata": {},
   "source": [
    "# configure trainer and explorer"
   ]
  },
  {
   "cell_type": "code",
   "execution_count": null,
   "metadata": {},
   "outputs": [],
   "source": [
    "memory = ReplayMemory(capacity)\n",
    "model = policy.get_model()\n",
    "batch_size = train_config.getint('trainer', 'batch_size')\n",
    "trainer = Trainer(model, memory, device, batch_size)\n",
    "explorer = Explorer(env, robot, device, memory, policy.gamma, target_policy=policy)"
   ]
  },
  {
   "cell_type": "markdown",
   "metadata": {},
   "source": [
    "# imitation learning"
   ]
  },
  {
   "cell_type": "code",
   "execution_count": null,
   "metadata": {},
   "outputs": [],
   "source": [
    "\n",
    "if args.resume:\n",
    "    if not os.path.exists(rl_weight_file):\n",
    "        logging.error('RL weights does not exist')\n",
    "    model.load_state_dict(torch.load(rl_weight_file))\n",
    "    rl_weight_file = os.path.join(args.output_dir, 'resumed_rl_model.pth')\n",
    "    logging.info('Load reinforcement learning trained weights. Resume training')\n",
    "elif os.path.exists(il_weight_file):\n",
    "    model.load_state_dict(torch.load(il_weight_file))\n",
    "    logging.info('Load imitation learning trained weights.')\n",
    "else:\n",
    "    il_episodes = train_config.getint('imitation_learning', 'il_episodes')\n",
    "    il_policy = train_config.get('imitation_learning', 'il_policy')\n",
    "    il_epochs = train_config.getint('imitation_learning', 'il_epochs')\n",
    "    il_learning_rate = train_config.getfloat('imitation_learning', 'il_learning_rate')\n",
    "    trainer.set_learning_rate(il_learning_rate)\n",
    "    if robot.visible:\n",
    "        safety_space = 0\n",
    "    else:\n",
    "        safety_space = train_config.getfloat('imitation_learning', 'safety_space')\n",
    "    il_policy = policy_factory[il_policy]()\n",
    "    il_policy.multiagent_training = policy.multiagent_training\n",
    "    il_policy.safety_space = safety_space\n",
    "    robot.set_policy(il_policy)\n",
    "    explorer.run_k_episodes(il_episodes, 'train', update_memory=True, imitation_learning=True)\n",
    "    trainer.optimize_epoch(il_epochs)\n",
    "    torch.save(model.state_dict(), il_weight_file)\n",
    "    logging.info('Finish imitation learning. Weights saved.')\n",
    "    logging.info('Experience set size: %d/%d', len(memory), memory.capacity)\n",
    "explorer.update_target_model(model)"
   ]
  },
  {
   "cell_type": "code",
   "execution_count": null,
   "metadata": {},
   "outputs": [],
   "source": []
  }
 ],
 "metadata": {
  "kernelspec": {
   "display_name": "crowdnav",
   "language": "python",
   "name": "python3"
  },
  "language_info": {
   "codemirror_mode": {
    "name": "ipython",
    "version": 3
   },
   "file_extension": ".py",
   "mimetype": "text/x-python",
   "name": "python",
   "nbconvert_exporter": "python",
   "pygments_lexer": "ipython3",
   "version": "3.8.18"
  }
 },
 "nbformat": 4,
 "nbformat_minor": 2
}
