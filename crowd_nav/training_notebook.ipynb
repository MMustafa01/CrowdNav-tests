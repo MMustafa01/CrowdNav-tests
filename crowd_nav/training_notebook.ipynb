{
 "cells": [
  {
   "cell_type": "code",
   "execution_count": 1,
   "metadata": {},
   "outputs": [
    {
     "name": "stderr",
     "output_type": "stream",
     "text": [
      "/home/or06360/miniconda3/envs/crowdnav/lib/python3.8/site-packages/tqdm/auto.py:21: TqdmWarning: IProgress not found. Please update jupyter and ipywidgets. See https://ipywidgets.readthedocs.io/en/stable/user_install.html\n",
      "  from .autonotebook import tqdm as notebook_tqdm\n"
     ]
    }
   ],
   "source": [
    "import sys\n",
    "import logging\n",
    "import argparse\n",
    "import configparser\n",
    "import os\n",
    "import shutil\n",
    "import torch\n",
    "import gym\n",
    "import git\n",
    "from crowd_sim.envs.utils.robot import Robot\n",
    "from crowd_nav.utils.trainer import Trainer\n",
    "from crowd_nav.utils.memory import ReplayMemory\n",
    "from crowd_nav.utils.explorer import Explorer\n",
    "from crowd_nav.policy.policy_factory import policy_factory"
   ]
  },
  {
   "cell_type": "markdown",
   "metadata": {},
   "source": [
    "# Parsing Arguments "
   ]
  },
  {
   "cell_type": "markdown",
   "metadata": {},
   "source": [
    "``python train.py --policy MambaRL --output_dir data/output/checking_mamba_onvscode --gpu``"
   ]
  },
  {
   "cell_type": "code",
   "execution_count": 2,
   "metadata": {},
   "outputs": [],
   "source": [
    "gpu = True\n",
    "debug = True\n",
    "policy = 'MambaRL'\n",
    "output_path = 'data/output/training_notebook/'"
   ]
  },
  {
   "cell_type": "code",
   "execution_count": 3,
   "metadata": {},
   "outputs": [
    {
     "name": "stdout",
     "output_type": "stream",
     "text": [
      "ayee\n",
      "ranoo\n",
      "baby\n"
     ]
    }
   ],
   "source": [
    "print('ayee')\n",
    "parser = argparse.ArgumentParser('Parse configuration file')\n",
    "print('ranoo')\n",
    "parser.add_argument('--env_config', type=str, default='configs/env.config')\n",
    "parser.add_argument('--policy', type=str, default=policy)\n",
    "parser.add_argument('--policy_config', type=str, default='configs/policy.config')\n",
    "parser.add_argument('--train_config', type=str, default='configs/train.config')\n",
    "parser.add_argument('--output_dir', type=str, default=output_path)\n",
    "parser.add_argument('--weights', type=str)\n",
    "parser.add_argument('--resume', default=False, action='store_true')\n",
    "parser.add_argument('--gpu', default=gpu, action='store_true')\n",
    "parser.add_argument('--debug', default=debug, action='store_true')\n",
    "print('baby')\n",
    "args = parser.parse_args(args = [])"
   ]
  },
  {
   "cell_type": "markdown",
   "metadata": {},
   "source": [
    "# Configure Paths"
   ]
  },
  {
   "cell_type": "code",
   "execution_count": 4,
   "metadata": {},
   "outputs": [],
   "source": [
    "make_new_dir = True\n",
    "if os.path.exists(args.output_dir):\n",
    "    key = input('Output directory already exists! Overwrite the folder? (y/n)')\n",
    "    if key == 'y' and not args.resume:\n",
    "        shutil.rmtree(args.output_dir)\n",
    "    else:\n",
    "        make_new_dir = False\n",
    "        args.env_config = os.path.join(args.output_dir, os.path.basename(args.env_config))\n",
    "        args.policy_config = os.path.join(args.output_dir, os.path.basename(args.policy_config))\n",
    "        args.train_config = os.path.join(args.output_dir, os.path.basename(args.train_config))\n",
    "if make_new_dir:\n",
    "    os.makedirs(args.output_dir)\n",
    "    shutil.copy(args.env_config, args.output_dir)\n",
    "    shutil.copy(args.policy_config, args.output_dir)\n",
    "    shutil.copy(args.train_config, args.output_dir)\n",
    "log_file = os.path.join(args.output_dir, 'output.log')\n",
    "il_weight_file = os.path.join(args.output_dir, 'il_model.pth')\n",
    "rl_weight_file = os.path.join(args.output_dir, 'rl_model.pth')\n"
   ]
  },
  {
   "cell_type": "markdown",
   "metadata": {},
   "source": [
    "# Configure Logging"
   ]
  },
  {
   "cell_type": "code",
   "execution_count": 5,
   "metadata": {},
   "outputs": [
    {
     "name": "stdout",
     "output_type": "stream",
     "text": [
      "2024-02-24 14:43:23, DEBUG: Popen(['git', 'cat-file', '--batch-check'], cwd=/home/or06360/Capstone/CrowdNav-tests, stdin=<valid stream>, shell=False, universal_newlines=False)\n",
      "2024-02-24 14:43:23, INFO: Current git head hash code: %s\n",
      "2024-02-24 14:43:23, INFO: Using device: cuda:0\n"
     ]
    }
   ],
   "source": [
    "mode = 'a' if args.resume else 'w'\n",
    "file_handler = logging.FileHandler(log_file, mode=mode)\n",
    "stdout_handler = logging.StreamHandler(sys.stdout)\n",
    "level = logging.INFO if not args.debug else logging.DEBUG\n",
    "logging.basicConfig(level=level, handlers=[stdout_handler, file_handler],\n",
    "                    format='%(asctime)s, %(levelname)s: %(message)s', datefmt=\"%Y-%m-%d %H:%M:%S\")\n",
    "repo = git.Repo(search_parent_directories=True)\n",
    "logging.info('Current git head hash code: %s'.format(repo.head.object.hexsha))\n",
    "device = torch.device(\"cuda:0\" if torch.cuda.is_available() and args.gpu else \"cpu\")\n",
    "logging.info('Using device: %s', device)\n"
   ]
  },
  {
   "cell_type": "markdown",
   "metadata": {},
   "source": [
    "# configure policy"
   ]
  },
  {
   "cell_type": "code",
   "execution_count": 6,
   "metadata": {},
   "outputs": [
    {
     "name": "stdout",
     "output_type": "stream",
     "text": [
      "<crowd_nav.policy.mamba_rl.MambaRL object at 0x7f6c346cd760>\n",
      "input dimension = 13\n",
      "ValueNetork(\n",
      "  (mambaLayer): Mamba(\n",
      "    (in_proj): Linear(in_features=13, out_features=52, bias=False)\n",
      "    (conv1d): Conv1d(26, 26, kernel_size=(4,), stride=(1,), padding=(3,), groups=26)\n",
      "    (act): SiLU()\n",
      "    (x_proj): Linear(in_features=26, out_features=33, bias=False)\n",
      "    (dt_proj): Linear(in_features=1, out_features=26, bias=True)\n",
      "    (out_proj): Linear(in_features=26, out_features=13, bias=False)\n",
      "  )\n",
      "  (value_network): Sequential(\n",
      "    (0): Linear(in_features=13, out_features=150, bias=True)\n",
      "    (1): ReLU()\n",
      "    (2): Linear(in_features=150, out_features=100, bias=True)\n",
      "    (3): ReLU()\n",
      "    (4): Linear(in_features=100, out_features=100, bias=True)\n",
      "    (5): ReLU()\n",
      "    (6): Linear(in_features=100, out_features=1, bias=True)\n",
      "  )\n",
      ")\n",
      "2024-02-24 14:43:25, INFO: Policy:MambaRL\n"
     ]
    }
   ],
   "source": [
    "\n",
    "policy = policy_factory[args.policy]()\n",
    "print(policy)\n",
    "if not policy.trainable:\n",
    "    parser.error('Policy has to be trainable')\n",
    "if args.policy_config is None:\n",
    "    parser.error('Policy config has to be specified for a trainable network')\n",
    "policy_config = configparser.RawConfigParser()\n",
    "policy_config.read(args.policy_config)\n",
    "policy.configure(policy_config)\n",
    "policy.set_device(device)"
   ]
  },
  {
   "cell_type": "markdown",
   "metadata": {},
   "source": [
    "# configure environment"
   ]
  },
  {
   "cell_type": "code",
   "execution_count": 7,
   "metadata": {},
   "outputs": [
    {
     "name": "stdout",
     "output_type": "stream",
     "text": [
      "2024-02-24 14:43:28, INFO: human number: 5\n",
      "2024-02-24 14:43:28, INFO: Not randomize human's radius and preferred speed\n",
      "2024-02-24 14:43:28, INFO: Training simulation: circle_crossing, test simulation: circle_crossing\n",
      "2024-02-24 14:43:28, INFO: Square width: 10.0, circle width: 4.0\n"
     ]
    }
   ],
   "source": [
    "env_config = configparser.RawConfigParser()\n",
    "env_config.read(args.env_config)\n",
    "env = gym.make('CrowdSim-v0')\n",
    "env.configure(env_config)\n",
    "robot = Robot(env_config, 'robot')\n",
    "env.set_robot(robot)\n"
   ]
  },
  {
   "cell_type": "markdown",
   "metadata": {},
   "source": [
    " # read training parameters"
   ]
  },
  {
   "cell_type": "code",
   "execution_count": 8,
   "metadata": {},
   "outputs": [],
   "source": [
    "if args.train_config is None:\n",
    "    parser.error('Train config has to be specified for a trainable network')\n",
    "train_config = configparser.RawConfigParser()\n",
    "train_config.read(args.train_config)\n",
    "rl_learning_rate = train_config.getfloat('train', 'rl_learning_rate')\n",
    "train_batches = train_config.getint('train', 'train_batches')\n",
    "train_episodes = train_config.getint('train', 'train_episodes')\n",
    "sample_episodes = train_config.getint('train', 'sample_episodes')\n",
    "target_update_interval = train_config.getint('train', 'target_update_interval')\n",
    "evaluation_interval = train_config.getint('train', 'evaluation_interval')\n",
    "capacity = train_config.getint('train', 'capacity')\n",
    "epsilon_start = train_config.getfloat('train', 'epsilon_start')\n",
    "epsilon_end = train_config.getfloat('train', 'epsilon_end')\n",
    "epsilon_decay = train_config.getfloat('train', 'epsilon_decay')\n",
    "checkpoint_interval = train_config.getint('train', 'checkpoint_interval')"
   ]
  },
  {
   "cell_type": "markdown",
   "metadata": {},
   "source": [
    "# configure trainer and explorer"
   ]
  },
  {
   "cell_type": "code",
   "execution_count": 9,
   "metadata": {},
   "outputs": [
    {
     "name": "stdout",
     "output_type": "stream",
     "text": [
      "<crowd_nav.policy.mamba_rl.MambaRL object at 0x7f6c346cd760>\n"
     ]
    }
   ],
   "source": [
    "memory = ReplayMemory(capacity)\n",
    "print(policy)\n",
    "model = policy.get_model()\n",
    "batch_size = train_config.getint('trainer', 'batch_size')\n",
    "trainer = Trainer(model, memory, device, batch_size)\n",
    "explorer = Explorer(env, robot, device, memory, policy.gamma, target_policy=policy)"
   ]
  },
  {
   "cell_type": "markdown",
   "metadata": {},
   "source": [
    "# imitation learning"
   ]
  },
  {
   "cell_type": "code",
   "execution_count": 10,
   "metadata": {},
   "outputs": [
    {
     "name": "stdout",
     "output_type": "stream",
     "text": [
      "2024-02-24 14:43:35, INFO: Current learning rate: 0.010000\n",
      "Running for 3000 episodes\n"
     ]
    },
    {
     "name": "stderr",
     "output_type": "stream",
     "text": [
      "100%|██████████| 3000/3000 [27:58<00:00,  1.79it/s]"
     ]
    },
    {
     "name": "stdout",
     "output_type": "stream",
     "text": [
      "2024-02-24 15:11:34, INFO: TRAIN has success rate: 0.89, collision rate: 0.09, nav time: 12.18, total reward: 0.2416\n"
     ]
    },
    {
     "name": "stderr",
     "output_type": "stream",
     "text": [
      "\n"
     ]
    }
   ],
   "source": [
    "\n",
    "if args.resume:\n",
    "    if not os.path.exists(rl_weight_file):\n",
    "        logging.error('RL weights does not exist')\n",
    "    model.load_state_dict(torch.load(rl_weight_file))\n",
    "    rl_weight_file = os.path.join(args.output_dir, 'resumed_rl_model.pth')\n",
    "    logging.info('Load reinforcement learning trained weights. Resume training')\n",
    "elif os.path.exists(il_weight_file):\n",
    "    model.load_state_dict(torch.load(il_weight_file))\n",
    "    logging.info('Load imitation learning trained weights.')\n",
    "else:\n",
    "    il_episodes = train_config.getint('imitation_learning', 'il_episodes')\n",
    "    il_policy = train_config.get('imitation_learning', 'il_policy')\n",
    "    il_epochs = train_config.getint('imitation_learning', 'il_epochs')\n",
    "    il_learning_rate = train_config.getfloat('imitation_learning', 'il_learning_rate')\n",
    "    trainer.set_learning_rate(il_learning_rate)\n",
    "    if robot.visible:\n",
    "        safety_space = 0\n",
    "    else:\n",
    "        safety_space = train_config.getfloat('imitation_learning', 'safety_space')\n",
    "    il_policy = policy_factory[il_policy]()\n",
    "    il_policy.multiagent_training = policy.multiagent_training\n",
    "    il_policy.safety_space = safety_space\n",
    "    robot.set_policy(il_policy)\n",
    "    explorer.run_k_episodes(il_episodes, 'train', update_memory=True, imitation_learning=True)\n",
    "    trainer.optimize_epoch(il_epochs)\n",
    "    torch.save(model.state_dict(), il_weight_file)\n",
    "    logging.info('Finish imitation learning. Weights saved.')\n",
    "    logging.info('Experience set size: %d/%d', len(memory), memory.capacity)\n",
    "explorer.update_target_model(model)\n",
    "    "
   ]
  },
  {
   "cell_type": "markdown",
   "metadata": {},
   "source": [
    "I have changed the code a little bit, i.e. right now the code olbly works for training for first time"
   ]
  },
  {
   "cell_type": "code",
   "execution_count": 11,
   "metadata": {},
   "outputs": [
    {
     "name": "stdout",
     "output_type": "stream",
     "text": [
      "torch.Size([100, 5, 13])\n",
      "torch.Size([100, 5, 13])\n",
      "torch.Size([100, 5, 1])\n",
      "Prints in trainer.py\n",
      "torch.Size([100, 5, 1])\n",
      "torch.Size([100, 1])\n"
     ]
    },
    {
     "name": "stderr",
     "output_type": "stream",
     "text": [
      "/home/or06360/miniconda3/envs/crowdnav/lib/python3.8/site-packages/torch/nn/modules/loss.py:535: UserWarning: Using a target size (torch.Size([100, 1])) that is different to the input size (torch.Size([100, 5, 1])). This will likely lead to incorrect results due to broadcasting. Please ensure they have the same size.\n",
      "  return F.mse_loss(input, target, reduction=self.reduction)\n"
     ]
    },
    {
     "ename": "RuntimeError",
     "evalue": "The size of tensor a (5) must match the size of tensor b (100) at non-singleton dimension 1",
     "output_type": "error",
     "traceback": [
      "\u001b[0;31m---------------------------------------------------------------------------\u001b[0m",
      "\u001b[0;31mRuntimeError\u001b[0m                              Traceback (most recent call last)",
      "Cell \u001b[0;32mIn[11], line 1\u001b[0m\n\u001b[0;32m----> 1\u001b[0m \u001b[43mtrainer\u001b[49m\u001b[38;5;241;43m.\u001b[39;49m\u001b[43moptimize_epoch\u001b[49m\u001b[43m(\u001b[49m\u001b[43mil_epochs\u001b[49m\u001b[43m)\u001b[49m\n\u001b[1;32m      2\u001b[0m torch\u001b[38;5;241m.\u001b[39msave(model\u001b[38;5;241m.\u001b[39mstate_dict(), il_weight_file)\n\u001b[1;32m      3\u001b[0m logging\u001b[38;5;241m.\u001b[39minfo(\u001b[38;5;124m'\u001b[39m\u001b[38;5;124mFinish imitation learning. Weights saved.\u001b[39m\u001b[38;5;124m'\u001b[39m)\n",
      "File \u001b[0;32m~/Capstone/CrowdNav-tests/crowd_nav/utils/trainer.py:43\u001b[0m, in \u001b[0;36mTrainer.optimize_epoch\u001b[0;34m(self, num_epochs)\u001b[0m\n\u001b[1;32m     39\u001b[0m outputs \u001b[38;5;241m=\u001b[39m \u001b[38;5;28mself\u001b[39m\u001b[38;5;241m.\u001b[39mmodel(inputs)\n\u001b[1;32m     40\u001b[0m \u001b[38;5;66;03m# print('Prints in trainer.py')\u001b[39;00m\n\u001b[1;32m     41\u001b[0m \u001b[38;5;66;03m# print(outputs.shape)\u001b[39;00m\n\u001b[1;32m     42\u001b[0m \u001b[38;5;66;03m# print(values.shape)\u001b[39;00m\n\u001b[0;32m---> 43\u001b[0m loss \u001b[38;5;241m=\u001b[39m \u001b[38;5;28mself\u001b[39m\u001b[38;5;241m.\u001b[39mcriterion(outputs, values)\n\u001b[1;32m     44\u001b[0m loss\u001b[38;5;241m.\u001b[39mbackward()\n\u001b[1;32m     45\u001b[0m \u001b[38;5;28mself\u001b[39m\u001b[38;5;241m.\u001b[39moptimizer\u001b[38;5;241m.\u001b[39mstep()\n",
      "File \u001b[0;32m~/miniconda3/envs/crowdnav/lib/python3.8/site-packages/torch/nn/modules/module.py:1511\u001b[0m, in \u001b[0;36mModule._wrapped_call_impl\u001b[0;34m(self, *args, **kwargs)\u001b[0m\n\u001b[1;32m   1509\u001b[0m     \u001b[38;5;28;01mreturn\u001b[39;00m \u001b[38;5;28mself\u001b[39m\u001b[38;5;241m.\u001b[39m_compiled_call_impl(\u001b[38;5;241m*\u001b[39margs, \u001b[38;5;241m*\u001b[39m\u001b[38;5;241m*\u001b[39mkwargs)  \u001b[38;5;66;03m# type: ignore[misc]\u001b[39;00m\n\u001b[1;32m   1510\u001b[0m \u001b[38;5;28;01melse\u001b[39;00m:\n\u001b[0;32m-> 1511\u001b[0m     \u001b[38;5;28;01mreturn\u001b[39;00m \u001b[38;5;28;43mself\u001b[39;49m\u001b[38;5;241;43m.\u001b[39;49m\u001b[43m_call_impl\u001b[49m\u001b[43m(\u001b[49m\u001b[38;5;241;43m*\u001b[39;49m\u001b[43margs\u001b[49m\u001b[43m,\u001b[49m\u001b[43m \u001b[49m\u001b[38;5;241;43m*\u001b[39;49m\u001b[38;5;241;43m*\u001b[39;49m\u001b[43mkwargs\u001b[49m\u001b[43m)\u001b[49m\n",
      "File \u001b[0;32m~/miniconda3/envs/crowdnav/lib/python3.8/site-packages/torch/nn/modules/module.py:1520\u001b[0m, in \u001b[0;36mModule._call_impl\u001b[0;34m(self, *args, **kwargs)\u001b[0m\n\u001b[1;32m   1515\u001b[0m \u001b[38;5;66;03m# If we don't have any hooks, we want to skip the rest of the logic in\u001b[39;00m\n\u001b[1;32m   1516\u001b[0m \u001b[38;5;66;03m# this function, and just call forward.\u001b[39;00m\n\u001b[1;32m   1517\u001b[0m \u001b[38;5;28;01mif\u001b[39;00m \u001b[38;5;129;01mnot\u001b[39;00m (\u001b[38;5;28mself\u001b[39m\u001b[38;5;241m.\u001b[39m_backward_hooks \u001b[38;5;129;01mor\u001b[39;00m \u001b[38;5;28mself\u001b[39m\u001b[38;5;241m.\u001b[39m_backward_pre_hooks \u001b[38;5;129;01mor\u001b[39;00m \u001b[38;5;28mself\u001b[39m\u001b[38;5;241m.\u001b[39m_forward_hooks \u001b[38;5;129;01mor\u001b[39;00m \u001b[38;5;28mself\u001b[39m\u001b[38;5;241m.\u001b[39m_forward_pre_hooks\n\u001b[1;32m   1518\u001b[0m         \u001b[38;5;129;01mor\u001b[39;00m _global_backward_pre_hooks \u001b[38;5;129;01mor\u001b[39;00m _global_backward_hooks\n\u001b[1;32m   1519\u001b[0m         \u001b[38;5;129;01mor\u001b[39;00m _global_forward_hooks \u001b[38;5;129;01mor\u001b[39;00m _global_forward_pre_hooks):\n\u001b[0;32m-> 1520\u001b[0m     \u001b[38;5;28;01mreturn\u001b[39;00m \u001b[43mforward_call\u001b[49m\u001b[43m(\u001b[49m\u001b[38;5;241;43m*\u001b[39;49m\u001b[43margs\u001b[49m\u001b[43m,\u001b[49m\u001b[43m \u001b[49m\u001b[38;5;241;43m*\u001b[39;49m\u001b[38;5;241;43m*\u001b[39;49m\u001b[43mkwargs\u001b[49m\u001b[43m)\u001b[49m\n\u001b[1;32m   1522\u001b[0m \u001b[38;5;28;01mtry\u001b[39;00m:\n\u001b[1;32m   1523\u001b[0m     result \u001b[38;5;241m=\u001b[39m \u001b[38;5;28;01mNone\u001b[39;00m\n",
      "File \u001b[0;32m~/miniconda3/envs/crowdnav/lib/python3.8/site-packages/torch/nn/modules/loss.py:535\u001b[0m, in \u001b[0;36mMSELoss.forward\u001b[0;34m(self, input, target)\u001b[0m\n\u001b[1;32m    534\u001b[0m \u001b[38;5;28;01mdef\u001b[39;00m \u001b[38;5;21mforward\u001b[39m(\u001b[38;5;28mself\u001b[39m, \u001b[38;5;28minput\u001b[39m: Tensor, target: Tensor) \u001b[38;5;241m-\u001b[39m\u001b[38;5;241m>\u001b[39m Tensor:\n\u001b[0;32m--> 535\u001b[0m     \u001b[38;5;28;01mreturn\u001b[39;00m \u001b[43mF\u001b[49m\u001b[38;5;241;43m.\u001b[39;49m\u001b[43mmse_loss\u001b[49m\u001b[43m(\u001b[49m\u001b[38;5;28;43minput\u001b[39;49m\u001b[43m,\u001b[49m\u001b[43m \u001b[49m\u001b[43mtarget\u001b[49m\u001b[43m,\u001b[49m\u001b[43m \u001b[49m\u001b[43mreduction\u001b[49m\u001b[38;5;241;43m=\u001b[39;49m\u001b[38;5;28;43mself\u001b[39;49m\u001b[38;5;241;43m.\u001b[39;49m\u001b[43mreduction\u001b[49m\u001b[43m)\u001b[49m\n",
      "File \u001b[0;32m~/miniconda3/envs/crowdnav/lib/python3.8/site-packages/torch/nn/functional.py:3338\u001b[0m, in \u001b[0;36mmse_loss\u001b[0;34m(input, target, size_average, reduce, reduction)\u001b[0m\n\u001b[1;32m   3335\u001b[0m \u001b[38;5;28;01mif\u001b[39;00m size_average \u001b[38;5;129;01mis\u001b[39;00m \u001b[38;5;129;01mnot\u001b[39;00m \u001b[38;5;28;01mNone\u001b[39;00m \u001b[38;5;129;01mor\u001b[39;00m reduce \u001b[38;5;129;01mis\u001b[39;00m \u001b[38;5;129;01mnot\u001b[39;00m \u001b[38;5;28;01mNone\u001b[39;00m:\n\u001b[1;32m   3336\u001b[0m     reduction \u001b[38;5;241m=\u001b[39m _Reduction\u001b[38;5;241m.\u001b[39mlegacy_get_string(size_average, reduce)\n\u001b[0;32m-> 3338\u001b[0m expanded_input, expanded_target \u001b[38;5;241m=\u001b[39m \u001b[43mtorch\u001b[49m\u001b[38;5;241;43m.\u001b[39;49m\u001b[43mbroadcast_tensors\u001b[49m\u001b[43m(\u001b[49m\u001b[38;5;28;43minput\u001b[39;49m\u001b[43m,\u001b[49m\u001b[43m \u001b[49m\u001b[43mtarget\u001b[49m\u001b[43m)\u001b[49m\n\u001b[1;32m   3339\u001b[0m \u001b[38;5;28;01mreturn\u001b[39;00m torch\u001b[38;5;241m.\u001b[39m_C\u001b[38;5;241m.\u001b[39m_nn\u001b[38;5;241m.\u001b[39mmse_loss(expanded_input, expanded_target, _Reduction\u001b[38;5;241m.\u001b[39mget_enum(reduction))\n",
      "File \u001b[0;32m~/miniconda3/envs/crowdnav/lib/python3.8/site-packages/torch/functional.py:76\u001b[0m, in \u001b[0;36mbroadcast_tensors\u001b[0;34m(*tensors)\u001b[0m\n\u001b[1;32m     74\u001b[0m \u001b[38;5;28;01mif\u001b[39;00m has_torch_function(tensors):\n\u001b[1;32m     75\u001b[0m     \u001b[38;5;28;01mreturn\u001b[39;00m handle_torch_function(broadcast_tensors, tensors, \u001b[38;5;241m*\u001b[39mtensors)\n\u001b[0;32m---> 76\u001b[0m \u001b[38;5;28;01mreturn\u001b[39;00m \u001b[43m_VF\u001b[49m\u001b[38;5;241;43m.\u001b[39;49m\u001b[43mbroadcast_tensors\u001b[49m\u001b[43m(\u001b[49m\u001b[43mtensors\u001b[49m\u001b[43m)\u001b[49m\n",
      "\u001b[0;31mRuntimeError\u001b[0m: The size of tensor a (5) must match the size of tensor b (100) at non-singleton dimension 1"
     ]
    }
   ],
   "source": []
  },
  {
   "cell_type": "code",
   "execution_count": null,
   "metadata": {},
   "outputs": [],
   "source": []
  }
 ],
 "metadata": {
  "kernelspec": {
   "display_name": "crowdnav",
   "language": "python",
   "name": "python3"
  },
  "language_info": {
   "codemirror_mode": {
    "name": "ipython",
    "version": 3
   },
   "file_extension": ".py",
   "mimetype": "text/x-python",
   "name": "python",
   "nbconvert_exporter": "python",
   "pygments_lexer": "ipython3",
   "version": "3.8.18"
  }
 },
 "nbformat": 4,
 "nbformat_minor": 2
}
